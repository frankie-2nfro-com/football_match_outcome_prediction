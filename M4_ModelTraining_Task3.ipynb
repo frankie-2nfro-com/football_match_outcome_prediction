{
 "cells": [
  {
   "cell_type": "markdown",
   "metadata": {},
   "source": [
    "Milestone 4 - Model Training\n",
    "\n",
    "Task 3: Train and tune other models\n",
    "\n",
    "This task will focus on steps 3 to 5 of the workflow mentioned in the first task of this milestone. There are many different models that you can use to train your model. You can use KNN, decision trees, random forests... You have to tune them before making a decision, and not the other way around. So first, tune all of them, and then check which one performs better on the testing set. Remember not to overfit! Some models, like decision tree, are prone to overfitting, so even if they perform very well on the training set, make sure that it can also perform well on the testing set. If that's the case, you can add different ways of regularisation. Once you picked the model, save the model as model.joblib."
   ]
  },
  {
   "cell_type": "code",
   "execution_count": null,
   "metadata": {},
   "outputs": [],
   "source": [
    "import re\n",
    "import pandas as pd\n",
    "import os\n",
    "import numpy as np\n",
    "from csv import reader\n",
    "import plotly.express as px\n",
    "import missingno as msno\n",
    "import pickle\n",
    "\n",
    "from sklearn.model_selection import train_test_split\n",
    "from sklearn.model_selection import KFold\n",
    "from sklearn.linear_model import LogisticRegression\n",
    "\n",
    "pd.options.mode.chained_assignment = None"
   ]
  },
  {
   "cell_type": "code",
   "execution_count": null,
   "metadata": {},
   "outputs": [],
   "source": [
    "# define recent matches meaning\n",
    "RECENT_PREFORMANCE_MATCH_COUNT = 3"
   ]
  },
  {
   "cell_type": "code",
   "execution_count": null,
   "metadata": {},
   "outputs": [],
   "source": []
  },
  {
   "cell_type": "code",
   "execution_count": null,
   "metadata": {},
   "outputs": [],
   "source": [
    "# load csv (reset data)\n",
    "result_with_goal_sofar_pd = pd.read_csv('cleaned_dataset.csv')\n",
    "result_with_goal_sofar_pd"
   ]
  },
  {
   "cell_type": "code",
   "execution_count": null,
   "metadata": {},
   "outputs": [],
   "source": [
    "# clean up records with NaN\n",
    "# drop record with na\n",
    "result_with_goal_sofar_pd = result_with_goal_sofar_pd.dropna()\n",
    "result_with_goal_sofar_pd"
   ]
  },
  {
   "cell_type": "code",
   "execution_count": null,
   "metadata": {},
   "outputs": [],
   "source": [
    "\n",
    "# delete no value column\n",
    "result_with_goal_sofar_pd.drop('Result', inplace=True, axis=1)\n",
    "result_with_goal_sofar_pd.drop('Link', inplace=True, axis=1)\n",
    "#result_with_goal_sofar_pd.drop('League', inplace=True, axis=1)\n",
    "#result_with_goal_sofar_pd.drop('Season', inplace=True, axis=1)\n",
    "#result_with_goal_sofar_pd.drop('Round', inplace=True, axis=1)\n",
    "#result_with_goal_sofar_pd.drop('Home_Team', inplace=True, axis=1)\n",
    "#result_with_goal_sofar_pd.drop('Away_Team', inplace=True, axis=1)\n",
    "result_with_goal_sofar_pd"
   ]
  },
  {
   "cell_type": "code",
   "execution_count": null,
   "metadata": {},
   "outputs": [],
   "source": [
    "\n",
    "# reorder dataframe column\n",
    "result_with_goal_sofar_pd.insert(0, 'League', result_with_goal_sofar_pd.pop('League'))\n",
    "result_with_goal_sofar_pd.insert(1, 'Season', result_with_goal_sofar_pd.pop('Season'))\n",
    "result_with_goal_sofar_pd.insert(2, 'Round', result_with_goal_sofar_pd.pop('Round'))\n",
    "result_with_goal_sofar_pd.insert(5, 'ELO_HOME', result_with_goal_sofar_pd.pop('ELO_HOME'))\n",
    "result_with_goal_sofar_pd.insert(6, 'ELO_AWAY', result_with_goal_sofar_pd.pop('ELO_AWAY'))\n",
    "#result_with_goal_sofar_pd.insert(0, 'ELO_HOME', result_with_goal_sofar_pd.pop('ELO_HOME'))\n",
    "#result_with_goal_sofar_pd.insert(1, 'ELO_AWAY', result_with_goal_sofar_pd.pop('ELO_AWAY'))\n",
    "result_with_goal_sofar_pd"
   ]
  },
  {
   "cell_type": "code",
   "execution_count": null,
   "metadata": {},
   "outputs": [],
   "source": [
    "# find who win H:Home A:Away D:Draw\n",
    "def get_result(record):\n",
    "    hscore = record['Home_Score']\n",
    "    ascore = record['Away_Score']\n",
    "    if hscore is pd.NA or ascore is pd.NA:\n",
    "        return pd.NA\n",
    "    if hscore==ascore:\n",
    "        return 0\n",
    "    elif hscore>ascore:\n",
    "        return 1\n",
    "    else:\n",
    "        return 2\n",
    "\n",
    "result_pd = result_with_goal_sofar_pd.apply(get_result, axis=1)\n",
    "\n",
    "#result_with_goal_sofar_pd.drop('Home_Score', inplace=True, axis=1)\n",
    "#result_with_goal_sofar_pd.drop('Away_Score', inplace=True, axis=1)\n",
    "\n",
    "result_with_goal_sofar_pd.insert(loc=len(result_with_goal_sofar_pd.columns), column=\"Result\", value=result_pd.astype('Int64')) \n",
    "result_with_goal_sofar_pd"
   ]
  },
  {
   "cell_type": "code",
   "execution_count": null,
   "metadata": {},
   "outputs": [],
   "source": []
  },
  {
   "cell_type": "code",
   "execution_count": null,
   "metadata": {},
   "outputs": [],
   "source": [
    "# KNN\n",
    "from sklearn.neighbors import KNeighborsClassifier\n",
    "\n",
    "def get_ELO_diff(record):\n",
    "    hscore = record['ELO_HOME']\n",
    "    ascore = record['ELO_AWAY']\n",
    "    return hscore - ascore\n",
    "\n",
    "def get_goal_so_far_diff(record):\n",
    "    hscore = record['HOME_TOTAL_GOAL_SO_FAR']\n",
    "    ascore = record['AWAY_TOTAL_GOAL_SO_FAR']\n",
    "    return hscore - ascore\n",
    "\n",
    "def get_recent_goal_diff_diff(record):\n",
    "    hscore = record['HOME_LASTEST_GOAL_DIFF']\n",
    "    ascore = record['AWAY_LASTEST_GOAL_DIFF']\n",
    "    return hscore - ascore\n",
    "\n",
    "def preprocess_data(result_pd):\n",
    "    if result_pd.shape[0] == 0:\n",
    "        return result_pd\n",
    "\n",
    "    elo_diff_pd = result_pd.apply(get_ELO_diff, axis=1)\n",
    "    result_pd.drop('ELO_HOME', inplace=True, axis=1)\n",
    "    result_pd.drop('ELO_AWAY', inplace=True, axis=1)\n",
    "    result_pd.insert(loc=1, column=\"ELO_DIFF\", value=elo_diff_pd.astype('Int64')) \n",
    "\n",
    "    goal_so_far_diff_pd = result_pd.apply(get_goal_so_far_diff, axis=1)\n",
    "    result_pd.drop('HOME_TOTAL_GOAL_SO_FAR', inplace=True, axis=1)\n",
    "    result_pd.drop('AWAY_TOTAL_GOAL_SO_FAR', inplace=True, axis=1)\n",
    "    result_pd.insert(loc=2, column=\"GOAL_SO_FAR_DIFF\", value=goal_so_far_diff_pd.astype('Int64')) \n",
    "\n",
    "    recent_perf_diff_pd = result_pd.apply(get_recent_goal_diff_diff, axis=1)\n",
    "    result_pd.drop('HOME_LASTEST_GOAL_DIFF', inplace=True, axis=1)\n",
    "    result_pd.drop('AWAY_LASTEST_GOAL_DIFF', inplace=True, axis=1)\n",
    "    result_pd.insert(loc=3, column=\"RECENT_PERF_DIFF\", value=recent_perf_diff_pd.astype('Int64')) \n",
    "\n",
    "    result_pd.drop('Home_Score', inplace=True, axis=1)\n",
    "    result_pd.drop('Away_Score', inplace=True, axis=1)\n",
    "    result_pd.drop('Season', inplace=True, axis=1)\n",
    "    result_pd.drop('Round', inplace=True, axis=1)\n",
    "    result_pd.drop('Home_Team', inplace=True, axis=1)\n",
    "    result_pd.drop('Away_Team', inplace=True, axis=1)\n",
    "\n",
    "    return result_pd\n",
    "\n",
    "\n",
    "def getKNNModelforLeague(result_league_pd, league):\n",
    "    if league != \"*\":\n",
    "        filter_result_league_pd = result_league_pd[ result_league_pd[\"League\"]==league ]\n",
    "    else:\n",
    "        filter_result_league_pd = result_league_pd.copy()\n",
    "\n",
    "    if filter_result_league_pd.shape[0] == 0:\n",
    "        # skip empty league data\n",
    "        return\n",
    "\n",
    "    array = filter_result_league_pd.values\n",
    "    X = array[:,1:4].astype('int')\n",
    "    y = array[:,4].astype('int')\n",
    "    \n",
    "    test_size = 0.3\n",
    "    seed = 7\n",
    "    X_train, X_test, y_train, y_test = train_test_split(X, y, test_size=test_size, random_state=seed)\n",
    "    \n",
    "    knn = KNeighborsClassifier(n_neighbors=15)\n",
    "    knn.fit(X_train, y_train)\n",
    "\n",
    "    result = knn.score(X_test, y_test) \n",
    "\n",
    "    if league==\"*\":\n",
    "        print(\"KNN Accuracy is %.3f%%\" % (result*100.0))  \n",
    "    else:\n",
    "        print(\"KNN Accuracy for \" + league + \" is %.3f%%\" % (result*100.0))  "
   ]
  },
  {
   "cell_type": "code",
   "execution_count": null,
   "metadata": {},
   "outputs": [],
   "source": [
    "result_pd = preprocess_data(result_with_goal_sofar_pd.copy())\n",
    "result_pd"
   ]
  },
  {
   "cell_type": "code",
   "execution_count": null,
   "metadata": {},
   "outputs": [],
   "source": [
    "getKNNModelforLeague(result_pd, \"*\")\n",
    "\n",
    "dir = \"./Results\"\n",
    "leagues = [name for name in os.listdir(dir) if os.path.isdir(os.path.join(dir, name))]\n",
    "for league in leagues:\n",
    "    getKNNModelforLeague(result_pd, league)"
   ]
  },
  {
   "cell_type": "code",
   "execution_count": null,
   "metadata": {},
   "outputs": [],
   "source": []
  },
  {
   "cell_type": "code",
   "execution_count": null,
   "metadata": {},
   "outputs": [],
   "source": []
  },
  {
   "cell_type": "code",
   "execution_count": null,
   "metadata": {},
   "outputs": [],
   "source": []
  },
  {
   "cell_type": "code",
   "execution_count": null,
   "metadata": {},
   "outputs": [],
   "source": [
    "from sklearn.linear_model import LinearRegression\n",
    "model = LinearRegression() \n",
    "model.fit(X_train, Y_train)\n",
    "\n",
    "result = model.score(X_test, Y_test) \n",
    "\n",
    "print(\"Accuracy: %.3f%%\" % (result*100.0))"
   ]
  }
 ],
 "metadata": {
  "kernelspec": {
   "display_name": "Python 3.8.13 ('aicore')",
   "language": "python",
   "name": "python3"
  },
  "language_info": {
   "name": "python",
   "version": "3.8.13"
  },
  "orig_nbformat": 4,
  "vscode": {
   "interpreter": {
    "hash": "dbdca2c50aeadb87b3b5f55307fac0bec3f36cb8aa25400a13885d793644358e"
   }
  }
 },
 "nbformat": 4,
 "nbformat_minor": 2
}
