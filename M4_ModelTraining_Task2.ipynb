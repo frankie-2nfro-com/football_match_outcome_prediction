{
 "cells": [
  {
   "cell_type": "markdown",
   "metadata": {},
   "source": [
    "Milestone 4 - Model Training\n",
    "\n",
    "Task 2: Perform feature selection\n",
    "\n",
    "This task will focus on the second step of the workflow mentioned in the previous task. Feature selection is a process that allows you to select a subset of the features in your dataset. This is useful if you have a lot of features and you don't want to use all of them. It's great if you have a model that overfits the data, and you want to reduce the number of features. Perform feature selection, so you can use the most important features to train your model. You can use LASSO regression for this task, but it's not recommended since it doesn't work very well with multiclass classification. Instead, you can simply take a look at the weights of your features and see which ones are important. Remove those that have low weights and check again the performance. Before you do that, you should check the performance of the model without feature selection on both training and testing sets, and observe if, by removing some features, the metrics on both sets get closer. Don't worry if you underfit right now, you will improve your model later."
   ]
  },
  {
   "cell_type": "code",
   "execution_count": null,
   "metadata": {},
   "outputs": [],
   "source": [
    "import re\n",
    "import pandas as pd\n",
    "import os\n",
    "import numpy as np\n",
    "from csv import reader\n",
    "import plotly.express as px\n",
    "import missingno as msno\n",
    "import pickle\n",
    "\n",
    "from sklearn.model_selection import train_test_split\n",
    "from sklearn.model_selection import KFold\n",
    "from sklearn.linear_model import LogisticRegression\n",
    "\n",
    "pd.options.mode.chained_assignment = None"
   ]
  },
  {
   "cell_type": "code",
   "execution_count": null,
   "metadata": {},
   "outputs": [],
   "source": []
  },
  {
   "cell_type": "code",
   "execution_count": null,
   "metadata": {},
   "outputs": [],
   "source": []
  }
 ],
 "metadata": {
  "kernelspec": {
   "display_name": "Python 3.8.13 ('aicore')",
   "language": "python",
   "name": "python3"
  },
  "language_info": {
   "name": "python",
   "version": "3.8.13"
  },
  "orig_nbformat": 4,
  "vscode": {
   "interpreter": {
    "hash": "dbdca2c50aeadb87b3b5f55307fac0bec3f36cb8aa25400a13885d793644358e"
   }
  }
 },
 "nbformat": 4,
 "nbformat_minor": 2
}
